{
 "cells": [
  {
   "cell_type": "code",
   "execution_count": 8,
   "metadata": {},
   "outputs": [
    {
     "data": {
      "text/plain": [
       "'$5$rounds=535000$ypneVjNfO3ZVgn52$nDwL3kEvJW/wTOMIJRv2s5D1JWRGKkdWFdbckHvgup1'"
      ]
     },
     "execution_count": 8,
     "metadata": {},
     "output_type": "execute_result"
    }
   ],
   "source": [
    "\"\"\"\n",
    "@uthor : Gaurav\n",
    "This is another functionality for our project in order to secure our password so sha algrothim are more secure md5.\n",
    "that's we use it.\n",
    "\"\"\"\n",
    "from passlib.hash import sha256_crypt\n",
    "# generate new salt, hash password\n",
    "hash1 = sha256_crypt.hash(\"password\")\n",
    "hash1# our hashed password"
   ]
  },
  {
   "cell_type": "code",
   "execution_count": 14,
   "metadata": {},
   "outputs": [
    {
     "data": {
      "text/plain": [
       "True"
      ]
     },
     "execution_count": 14,
     "metadata": {},
     "output_type": "execute_result"
    }
   ],
   "source": [
    "sha256_crypt.verify(\"password\",hash1) # when user will enter the password,the algorithm will very with hashed password in ordernot to expose password."
   ]
  },
  {
   "cell_type": "code",
   "execution_count": 9,
   "metadata": {},
   "outputs": [
    {
     "data": {
      "text/plain": [
       "'$6$rounds=656000$LEWRh2qnXD/J48mr$7Aetf0b4NyyQeDlgZyP.go6VCDQhtOUxY7XbD47vt9kEORYCBZKX5InTMRIV4YHhlh55S67LcSgA1uuEle10Z0'"
      ]
     },
     "execution_count": 9,
     "metadata": {},
     "output_type": "execute_result"
    }
   ],
   "source": [
    "# same here is another alternative we use sha512 algorithim which is more secure than previous one \n",
    "from passlib.hash import sha512_crypt\n",
    "# generate new salt, hash password\n",
    "hash2 = sha512_crypt.hash(\"password\")\n",
    "hash2"
   ]
  },
  {
   "cell_type": "code",
   "execution_count": 15,
   "metadata": {},
   "outputs": [
    {
     "data": {
      "text/plain": [
       "True"
      ]
     },
     "execution_count": 15,
     "metadata": {},
     "output_type": "execute_result"
    }
   ],
   "source": [
    "sha512_crypt.verify(\"password\",hash2)"
   ]
  },
  {
   "cell_type": "code",
   "execution_count": null,
   "metadata": {},
   "outputs": [],
   "source": []
  }
 ],
 "metadata": {
  "kernelspec": {
   "display_name": "Python 3",
   "language": "python",
   "name": "python3"
  },
  "language_info": {
   "codemirror_mode": {
    "name": "ipython",
    "version": 3
   },
   "file_extension": ".py",
   "mimetype": "text/x-python",
   "name": "python",
   "nbconvert_exporter": "python",
   "pygments_lexer": "ipython3",
   "version": "3.6.5"
  }
 },
 "nbformat": 4,
 "nbformat_minor": 1
}
